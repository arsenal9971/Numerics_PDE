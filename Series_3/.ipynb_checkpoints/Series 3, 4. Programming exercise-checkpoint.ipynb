{
 "cells": [
  {
   "cell_type": "markdown",
   "metadata": {},
   "source": [
    "# Series 3 programming exercise:\n",
    "#### Héctor Andrade Loarca - 375708"
   ]
  },
  {
   "cell_type": "code",
   "execution_count": 115,
   "metadata": {
    "collapsed": true
   },
   "outputs": [],
   "source": [
    "#We import some useful libraries\n",
    "import numpy as np\n",
    "import numpy.linalg as la\n",
    "import scipy.integrate as integrate\n",
    "import math\n",
    "import matplotlib.pyplot as plt\n",
    "%matplotlib inline  "
   ]
  },
  {
   "cell_type": "markdown",
   "metadata": {},
   "source": [
    "We have the variational problem:\n",
    "\n",
    "Find $v\\in V\\subset L^2(]0,1[)$, such that:\n",
    "$$ \\int_0^1u(x)v(x)dx=\\int_0^1 e^xv(x)dx$$\n",
    "for all $v\\in V$.\n",
    "    \n",
    "**a)** Lets take the following choices of trail/test spaces, with $n$ the discretization parameter:\n",
    "\n",
    "- (i)  $ V_n=span\\{x^j,k=0,....,n-1\\} $\n",
    "- (ii) $ V_n=span\\{sin(k\\pi x),k=1,...,n\\} $\n",
    "- (iii) $V_n=span\\{\\chi_{[\\frac{k-1}{n},\\frac{k}{n}[},k=1,...,n\\}$"
   ]
  },
  {
   "cell_type": "markdown",
   "metadata": {},
   "source": [
    "Lets compute the resulting linear equation for"
   ]
  },
  {
   "cell_type": "markdown",
   "metadata": {},
   "source": [
    "- Lets take $u\\in V_n$, then $u=\\sum_{j=0}^n\\alpha_i\\phi_j(x)$ then we get the linear system:\n",
    "$$ \\sum_{j=0}^n \\alpha_j \\int_0^1 \\phi_j(x)\\phi_i(x) dx=\\int_0^1 e^x\\phi_i(x)dx$$\n",
    "\n",
    "Defining, $A_{i,j}=\\int_0^1 \\phi_j(x)\\phi_i(x) dx$ the entries of a matrix **A**, $\\alpha_i$ the entries of a vector $\\alpha$, and $b_i=\\int_0^1 e^x\\phi_i(x)d$ the entries of a vector b, the variational problem will be equivalent to the problem:\n",
    "<h5 align=\"center\">**A** $\\alpha$=b</h5> "
   ]
  },
  {
   "cell_type": "markdown",
   "metadata": {},
   "source": [
    "- (i) If $V_n=span\\{x^j,k=0,....,n-1\\}$, then $A_{ij}=\\int_0^1 x^ix^j=\\frac{1}{i+j}$ if $(i,j)\\neq (0,0)$ and $A_{00}=1$.\n",
    "- (ii) If $V_n=span\\{sin(k\\pi x),k=1,...,n\\} $, the $A_{ij}=\\int_0^1 sin(i\\pi x)sin(j\\pi x) dx=\\frac{1}{2}\\delta_{i,j}$.\n",
    "- (iii) If $V_n=span\\{\\chi_{[\\frac{k-1}{n},\\frac{k}{n}[},k=1,...,n\\}$, then $A_{ij}=\\int_0^1 \\chi_{[\\frac{i-1}{n},\\frac{i}{n}[}\\chi_{[\\frac{j-1}{n},\\frac{j}{n}[}=\\frac{1}{n}\\delta_{i,j}$"
   ]
  },
  {
   "cell_type": "markdown",
   "metadata": {},
   "source": [
    "**b)** Lets compute the condition number of the coefficient matrices on (i), (ii), notemos primero que ambas matrices son normales ($A^*A=AA^*$) since are diagonal and real then the condition number will be:\n",
    "$$\\kappa(A)=\\frac{\\lambda_{max}(A)}{\\lambda_{min}(A)}$$.\n",
    "\n",
    "Lets compute the maximum and minimum eigenvalue of the matrices."
   ]
  },
  {
   "cell_type": "markdown",
   "metadata": {},
   "source": [
    "#We define a function that computes the condition parameter for a normal matrix A\n",
    "def cond(A):\n",
    "    B=la.eigvals(A)\n",
    "    return max(B)/min(B)"
   ]
  },
  {
   "cell_type": "markdown",
   "metadata": {},
   "source": [
    "- (ii) $A_{ij}=\\int_0^1 sin(i\\pi x)sin(j\\pi x) dx=\\frac{1}{2}\\delta_{i,j}$"
   ]
  },
  {
   "cell_type": "code",
   "execution_count": 43,
   "metadata": {
    "collapsed": false
   },
   "outputs": [
    {
     "data": {
      "text/plain": [
       "1.0"
      ]
     },
     "execution_count": 43,
     "metadata": {},
     "output_type": "execute_result"
    }
   ],
   "source": [
    "#We define the matrix in a function dependent on n-discretization parameter\n",
    "def A2(n):\n",
    "    return 1./2*np.identity(n)\n",
    "#lets take n=10\n",
    "n=10\n",
    "#The condition number of the matrix will be\n",
    "K2=cond(A2(10))\n",
    "K2"
   ]
  },
  {
   "cell_type": "markdown",
   "metadata": {},
   "source": [
    "As the matrix **A1** is diagonal, in general for any $n$ the condition number will be 1."
   ]
  },
  {
   "cell_type": "markdown",
   "metadata": {},
   "source": [
    "- (iii) $A_{ij}=\\int_0^1 \\chi_{[\\frac{i-1}{n},\\frac{i}{n}[}\\chi_{[\\frac{j-1}{n},\\frac{j}{n}[}=\\frac{1}{n}\\delta_{i,j}$"
   ]
  },
  {
   "cell_type": "code",
   "execution_count": 44,
   "metadata": {
    "collapsed": false
   },
   "outputs": [
    {
     "data": {
      "text/plain": [
       "1.0"
      ]
     },
     "execution_count": 44,
     "metadata": {},
     "output_type": "execute_result"
    }
   ],
   "source": [
    "#We define the matrix in a function dependent on n-discretization parameter\n",
    "def A3(n):\n",
    "    return 1./n*np.identity(n)\n",
    "#lets take n=10\n",
    "n=10\n",
    "#The condition number of the matrix will be\n",
    "K3=cond(A3(10))\n",
    "K3"
   ]
  },
  {
   "cell_type": "markdown",
   "metadata": {},
   "source": [
    "Again, the matrix **A2** is diagonal, then the condition number will be 1 again."
   ]
  },
  {
   "cell_type": "markdown",
   "metadata": {},
   "source": [
    "**c)** Lets calculate the condition number for the matrix in (i) ($A_{ij}=\\int_0^1 x^ix^j=\\frac{1}{i+j}$ if $(i,j)\\neq (0,0)$ and $A_{00}=1$), for n=1,2,...,10"
   ]
  },
  {
   "cell_type": "code",
   "execution_count": 69,
   "metadata": {
    "collapsed": true
   },
   "outputs": [],
   "source": [
    "#We define the matrix in a function dependent on n-discretization parameter\n",
    "def A1(n):\n",
    "    A=np.zeros((n,n))\n",
    "    for i in range(0,n):\n",
    "        for j in range(0,n):\n",
    "            if i==0 and j==0:\n",
    "                A[i,j]=1 #The entry (0,0)\n",
    "            else:\n",
    "                A[i,j]=1/float(i+j)\n",
    "    return A"
   ]
  },
  {
   "cell_type": "code",
   "execution_count": 99,
   "metadata": {
    "collapsed": false
   },
   "outputs": [],
   "source": [
    "# Lets calculate the condition number for n=1,...10\n",
    "cond1=[cond(A1(n)) for n in range(1,11)]"
   ]
  },
  {
   "cell_type": "code",
   "execution_count": 100,
   "metadata": {
    "collapsed": false
   },
   "outputs": [
    {
     "name": "stdout",
     "output_type": "stream",
     "text": [
      "The cond. number for n=1 is 1.0\n",
      "The cond. number for n=2 is -6.34232921921\n",
      "The cond. number for n=3 is -6.94089087785\n",
      "The cond. number for n=4 is -7.32226916585\n",
      "The cond. number for n=5 is -7.55796868654\n",
      "The cond. number for n=6 is -7.71951643366\n",
      "The cond. number for n=7 is -7.8402862685\n",
      "The cond. number for n=8 is -7.93624626002\n",
      "The cond. number for n=9 is -8.01574786418\n",
      "The cond. number for n=10 is -8.08356432617\n"
     ]
    }
   ],
   "source": [
    "for i in range(10):\n",
    "    print(\"The cond. number for n=\"+str(i+1)+\" is \"+str(cond1[i]))"
   ]
  },
  {
   "cell_type": "markdown",
   "metadata": {},
   "source": [
    "**d)** Lets plot the condiition number of the schemes (i)-(iii) for $n=1,...,10$"
   ]
  },
  {
   "cell_type": "markdown",
   "metadata": {},
   "source": [
    "- (i) $A_{ij}=\\int_0^1 x^ix^j=\\frac{1}{i+j}$ if $(i,j)\\neq (0,0)$ and $A_{00}=1$"
   ]
  },
  {
   "cell_type": "code",
   "execution_count": 110,
   "metadata": {
    "collapsed": false
   },
   "outputs": [
    {
     "data": {
      "text/plain": [
       "<matplotlib.text.Text at 0x10fa5ad10>"
      ]
     },
     "execution_count": 110,
     "metadata": {},
     "output_type": "execute_result"
    },
    {
     "data": {
      "image/png": "[encoded data removed]",
      "text/plain": [
       "<matplotlib.figure.Figure at 0x10f8fbe90>"
      ]
     },
     "metadata": {},
     "output_type": "display_data"
    }
   ],
   "source": [
    "cond1=[cond(A1(n)) for n in range(1,11)]\n",
    "plt.plot(cond1, '-o')\n",
    "plt.xlabel('Degrees of freedom')\n",
    "plt.ylabel('Condition number')\n",
    "plt.title('Matrix in (i)')"
   ]
  },
  {
   "cell_type": "markdown",
   "metadata": {},
   "source": [
    "- (ii) $A_{ij}=\\int_0^1 sin(i\\pi x)sin(j\\pi x) dx=\\frac{1}{2}\\delta_{i,j}$."
   ]
  },
  {
   "cell_type": "code",
   "execution_count": 114,
   "metadata": {
    "collapsed": false
   },
   "outputs": [
    {
     "data": {
      "text/plain": [
       "<matplotlib.text.Text at 0x10f93f050>"
      ]
     },
     "execution_count": 114,
     "metadata": {},
     "output_type": "execute_result"
    },
    {
     "data": {
      "image/png": "[encoded data removed]",
      "text/plain": [
       "<matplotlib.figure.Figure at 0x10fc6af90>"
      ]
     },
     "metadata": {},
     "output_type": "display_data"
    }
   ],
   "source": [
    "cond2=[cond(A2(n)) for n in range(1,11)]\n",
    "plt.plot(cond2, '-o')\n",
    "plt.xlabel('Degrees of freedom')\n",
    "plt.ylabel('Condition number')\n",
    "plt.title('Matrix in (ii)')"
   ]
  },
  {
   "cell_type": "markdown",
   "metadata": {},
   "source": [
    "- (ii) $A_{ij}=\\int_0^1 \\chi_{[\\frac{i-1}{n},\\frac{i}{n}[}\\chi_{[\\frac{j-1}{n},\\frac{j}{n}[}=\\frac{1}{n}\\delta_{i,j}$"
   ]
  },
  {
   "cell_type": "code",
   "execution_count": 113,
   "metadata": {
    "collapsed": false
   },
   "outputs": [
    {
     "data": {
      "text/plain": [
       "<matplotlib.text.Text at 0x111cb9a10>"
      ]
     },
     "execution_count": 113,
     "metadata": {},
     "output_type": "execute_result"
    },
    {
     "data": {
      "image/png": "[encoded data removed]",
      "text/plain": [
       "<matplotlib.figure.Figure at 0x10fb43990>"
      ]
     },
     "metadata": {},
     "output_type": "display_data"
    }
   ],
   "source": [
    "cond3=[cond(A3(n)) for n in range(1,11)]\n",
    "plt.plot(cond3, '-o')\n",
    "plt.xlabel('Degrees of freedom')\n",
    "plt.ylabel('Condition number')\n",
    "plt.title('Matrix in (ii)')"
   ]
  },
  {
   "cell_type": "markdown",
   "metadata": {},
   "source": [
    "**e)** Lets compute the $L^2(]0,1[)$-norm of the discretization error for the problem (iii) as a function of the discretization parameter $n$ using Python. The $L^2(]0,1[)$-norm of the discretization error will be:\n",
    "$$||e_n||_{L^2(]0,1[)}=||u-u_n||_{L^2(]0,1[)}$$\n",
    "Where $$u=e^x$$\n",
    "and $$u_n=\\sum_{i=1}^n \\alpha_i \\chi_{[\\frac{i-1}{n},\\frac{i}{n}[} $$\n",
    "where $\\alpha_i$ are the entries of the vector-solution of the linear system:\n",
    "$$\\mathbb{A}\\alpha=b$$\n",
    "and the entries $b_i$ of b are\n",
    "$$ b_i=\\int_0^1 e^x \\chi_{[\\frac{i-1}{n},\\frac{i}{n}[}=e^x\\bigg|_{\\frac{i-1}{n}}^{\\frac{i}{n}}=e^{\\frac{i}{n}}-e^{\\frac{i-1}{n}}=e^{\\frac{i}{n}}(1-e^{-\\frac{1}{n}})$$"
   ]
  },
  {
   "cell_type": "markdown",
   "metadata": {},
   "source": [
    "Now lets compute the error:\n",
    "$$\n",
    "||u-u_n||^2_{L^2(]0,1[)}=\\int_0^1\\left(e^x-\\sum_{i=1}^n\\alpha_i\\chi_{[\\frac{i-1}{n},\\frac{i}{n}[} \\right)^2 dx \n",
    "=\\frac{e^2-1}{2}-2(1-e^{-\\frac{1}{n}})\\sum_{i=1}^n \\alpha_i e^{\\frac{i}{n}}+\\frac{1}{n}\\sum_{i=1}^n\\alpha_i^2\n",
    "$$"
   ]
  },
  {
   "cell_type": "markdown",
   "metadata": {},
   "source": [
    "Since $\\alpha$ is the solution of the system $\\mathbb{A}\\alpha=b$, then as $\\mathbb{A}$ is invertible in the case (iii), then $\\alpha=\\mathbb{A}^{-1}b$. Lets define the function of the L2-norm of the error in terms of the discretizatin parameter n."
   ]
  },
  {
   "cell_type": "code",
   "execution_count": 198,
   "metadata": {
    "collapsed": false
   },
   "outputs": [],
   "source": [
    "def error(n):\n",
    "    #We compute firs the vector b\n",
    "    b=np.array([np.exp(float(i)/n)*(1-np.exp(-1./n)) for i in range(1,n+1)])\n",
    "    #We compute first the vector\n",
    "    alpha=la.inv(A3(n)).dot(b)\n",
    "    #Lets define a helpful vector for the second term in error L2 norm\n",
    "    ev=np.array([np.exp(float(i)/n) for i in range(1,n+1)])\n",
    "    #then we compute the error\n",
    "    return np.sqrt(abs((np.exp(2.)-1)/2-2.*(1-np.exp(-1./n))*alpha.dot(ev)+(1/n)*sum(alpha**2)))"
   ]
  },
  {
   "cell_type": "code",
   "execution_count": 227,
   "metadata": {
    "collapsed": true
   },
   "outputs": [],
   "source": [
    "#Now lets compute a vector of errors depending on the discretazation parameter n from 1 to 20\n",
    "errorvec=[error(n) for n in range(1,11)]"
   ]
  },
  {
   "cell_type": "code",
   "execution_count": 228,
   "metadata": {
    "collapsed": false
   },
   "outputs": [],
   "source": [
    "#Lets compute the rate of converence\n",
    "#Lets take de logaritmic difference of the error vector and divide by de logaritmic difference of the n-vect\n",
    "errorlogdiff=np.diff(np.log(errorvec))\n",
    "nlogdiff=np.diff(np.log(np.array(range(1,11))))\n",
    "rate=errorlogdiff/nlogdiff"
   ]
  },
  {
   "cell_type": "markdown",
   "metadata": {},
   "source": [
    "Lets plot finally the rate of convergence"
   ]
  },
  {
   "cell_type": "code",
   "execution_count": 229,
   "metadata": {
    "collapsed": false
   },
   "outputs": [
    {
     "data": {
      "text/plain": [
       "<matplotlib.text.Text at 0x111a47f10>"
      ]
     },
     "execution_count": 229,
     "metadata": {},
     "output_type": "execute_result"
    },
    {
     "data": {
      "image/png": "[encoded data removed]",
      "text/plain": [
       "<matplotlib.figure.Figure at 0x10f84ea50>"
      ]
     },
     "metadata": {},
     "output_type": "display_data"
    }
   ],
   "source": [
    "plt.plot(rate)\n",
    "plt.xlabel('Discretization paramete-n')\n",
    "plt.ylabel('Rate of convergence')\n",
    "plt.title('Convergence of system (iii)')"
   ]
  }
 ],
 "metadata": {
  "kernelspec": {
   "display_name": "Python 2",
   "language": "python",
   "name": "python2"
  },
  "language_info": {
   "codemirror_mode": {
    "name": "ipython",
    "version": 2
   },
   "file_extension": ".py",
   "mimetype": "text/x-python",
   "name": "python",
   "nbconvert_exporter": "python",
   "pygments_lexer": "ipython2",
   "version": "2.7.10"
  }
 },
 "nbformat": 4,
 "nbformat_minor": 0
}
